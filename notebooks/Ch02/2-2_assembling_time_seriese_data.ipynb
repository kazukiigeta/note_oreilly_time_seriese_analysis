{
 "cells": [
  {
   "cell_type": "markdown",
   "id": "9faef6e6-8067-43c7-abd8-6372a07f147e",
   "metadata": {},
   "source": [
    "# 2.2 収集した時系列の組み立て\n",
    "\n",
    "時間解像度の異なる系列データを組み合わせてデータを作る。\n"
   ]
  },
  {
   "cell_type": "markdown",
   "id": "76c3e676-95a2-4910-8fa3-db85c08a1a14",
   "metadata": {},
   "source": [
    "## データの用意\n",
    "\n",
    "データ自体は、[BookRepo](https://github.com/PracticalTimeSeriesAnalysis/BookRepo)に格納されている。\n",
    "BookRepoリポジトリの[generateAggregateData.py](https://github.com/PracticalTimeSeriesAnalysis/BookRepo/blob/master/Ch02/generateAggregateData.py)を使って作成もできる。\n",
    "\n",
    "```bash\n",
    "python generateAggregateData.py\n",
    "```\n",
    "\n",
    "これで、`data/year_joined.csv`, `data/donations.csv`, `data/emails.csv`が生成される。\n",
    "しかし、ここで作成される`data/year_joined.csv`は`user`を示す列が無く、indexで代用するということか？？(issueに書いてあったりするかもだが確認してない)\n",
    "\n",
    "乱数のシードが固定されていないので、上書きすると値が変わるので注意。"
   ]
  },
  {
   "cell_type": "markdown",
   "id": "20ab0e76-a9ad-4e9b-8084-08196743d521",
   "metadata": {},
   "source": [
    "## データの組み立て"
   ]
  },
  {
   "cell_type": "code",
   "execution_count": 1,
   "id": "0bb30247-ef30-4871-9d17-cfbede1d15a0",
   "metadata": {},
   "outputs": [],
   "source": [
    "import numpy as np\n",
    "import pandas as pd"
   ]
  },
  {
   "cell_type": "markdown",
   "id": "2efaefc5-bf6b-47cd-a53e-3dd47e879b6e",
   "metadata": {},
   "source": [
    "まずはデータをpandasで読み込む。\n",
    "\n",
    "データは、サポートリポジトリに格納されていたものを利用する。上記のスクリプトで作成したものだと、`year_joined.csv`のデータ形式が若干異なる。\n",
    "解釈はできるのだけど、不安なので。\n",
    "\n",
    "データは以下の3種類。全て、テーブル形式のデータ。\n",
    "\n",
    "- `year_joined.csv`: 年ごとの会員資格情報\n",
    "- `emails.csv`: 週ごとの開封メールの総数\n",
    "- `donations.csv`: 寄付のタイムスタンプデータ\n",
    "\n",
    "`user`列がkeyになっている。"
   ]
  },
  {
   "cell_type": "code",
   "execution_count": 2,
   "id": "f0c67dc8-a7ff-4ea8-8700-ae4b5191fb4c",
   "metadata": {},
   "outputs": [
    {
     "data": {
      "text/html": [
       "<div>\n",
       "<style scoped>\n",
       "    .dataframe tbody tr th:only-of-type {\n",
       "        vertical-align: middle;\n",
       "    }\n",
       "\n",
       "    .dataframe tbody tr th {\n",
       "        vertical-align: top;\n",
       "    }\n",
       "\n",
       "    .dataframe thead th {\n",
       "        text-align: right;\n",
       "    }\n",
       "</style>\n",
       "<table border=\"1\" class=\"dataframe\">\n",
       "  <thead>\n",
       "    <tr style=\"text-align: right;\">\n",
       "      <th></th>\n",
       "      <th>user</th>\n",
       "      <th>userStats</th>\n",
       "      <th>yearJoined</th>\n",
       "    </tr>\n",
       "  </thead>\n",
       "  <tbody>\n",
       "    <tr>\n",
       "      <th>0</th>\n",
       "      <td>0</td>\n",
       "      <td>silver</td>\n",
       "      <td>2014</td>\n",
       "    </tr>\n",
       "    <tr>\n",
       "      <th>1</th>\n",
       "      <td>1</td>\n",
       "      <td>silver</td>\n",
       "      <td>2015</td>\n",
       "    </tr>\n",
       "    <tr>\n",
       "      <th>2</th>\n",
       "      <td>2</td>\n",
       "      <td>silver</td>\n",
       "      <td>2016</td>\n",
       "    </tr>\n",
       "    <tr>\n",
       "      <th>3</th>\n",
       "      <td>3</td>\n",
       "      <td>bronze</td>\n",
       "      <td>2018</td>\n",
       "    </tr>\n",
       "    <tr>\n",
       "      <th>4</th>\n",
       "      <td>4</td>\n",
       "      <td>silver</td>\n",
       "      <td>2018</td>\n",
       "    </tr>\n",
       "  </tbody>\n",
       "</table>\n",
       "</div>"
      ],
      "text/plain": [
       "   user userStats  yearJoined\n",
       "0     0    silver        2014\n",
       "1     1    silver        2015\n",
       "2     2    silver        2016\n",
       "3     3    bronze        2018\n",
       "4     4    silver        2018"
      ]
     },
     "metadata": {},
     "output_type": "display_data"
    },
    {
     "data": {
      "text/html": [
       "<div>\n",
       "<style scoped>\n",
       "    .dataframe tbody tr th:only-of-type {\n",
       "        vertical-align: middle;\n",
       "    }\n",
       "\n",
       "    .dataframe tbody tr th {\n",
       "        vertical-align: top;\n",
       "    }\n",
       "\n",
       "    .dataframe thead th {\n",
       "        text-align: right;\n",
       "    }\n",
       "</style>\n",
       "<table border=\"1\" class=\"dataframe\">\n",
       "  <thead>\n",
       "    <tr style=\"text-align: right;\">\n",
       "      <th></th>\n",
       "      <th>emailsOpened</th>\n",
       "      <th>user</th>\n",
       "      <th>week</th>\n",
       "    </tr>\n",
       "  </thead>\n",
       "  <tbody>\n",
       "    <tr>\n",
       "      <th>0</th>\n",
       "      <td>3.0</td>\n",
       "      <td>1.0</td>\n",
       "      <td>2015-06-29 00:00:00</td>\n",
       "    </tr>\n",
       "    <tr>\n",
       "      <th>1</th>\n",
       "      <td>2.0</td>\n",
       "      <td>1.0</td>\n",
       "      <td>2015-07-13 00:00:00</td>\n",
       "    </tr>\n",
       "    <tr>\n",
       "      <th>2</th>\n",
       "      <td>2.0</td>\n",
       "      <td>1.0</td>\n",
       "      <td>2015-07-20 00:00:00</td>\n",
       "    </tr>\n",
       "    <tr>\n",
       "      <th>3</th>\n",
       "      <td>3.0</td>\n",
       "      <td>1.0</td>\n",
       "      <td>2015-07-27 00:00:00</td>\n",
       "    </tr>\n",
       "    <tr>\n",
       "      <th>4</th>\n",
       "      <td>1.0</td>\n",
       "      <td>1.0</td>\n",
       "      <td>2015-08-03 00:00:00</td>\n",
       "    </tr>\n",
       "  </tbody>\n",
       "</table>\n",
       "</div>"
      ],
      "text/plain": [
       "   emailsOpened  user                 week\n",
       "0           3.0   1.0  2015-06-29 00:00:00\n",
       "1           2.0   1.0  2015-07-13 00:00:00\n",
       "2           2.0   1.0  2015-07-20 00:00:00\n",
       "3           3.0   1.0  2015-07-27 00:00:00\n",
       "4           1.0   1.0  2015-08-03 00:00:00"
      ]
     },
     "metadata": {},
     "output_type": "display_data"
    },
    {
     "data": {
      "text/html": [
       "<div>\n",
       "<style scoped>\n",
       "    .dataframe tbody tr th:only-of-type {\n",
       "        vertical-align: middle;\n",
       "    }\n",
       "\n",
       "    .dataframe tbody tr th {\n",
       "        vertical-align: top;\n",
       "    }\n",
       "\n",
       "    .dataframe thead th {\n",
       "        text-align: right;\n",
       "    }\n",
       "</style>\n",
       "<table border=\"1\" class=\"dataframe\">\n",
       "  <thead>\n",
       "    <tr style=\"text-align: right;\">\n",
       "      <th></th>\n",
       "      <th>amount</th>\n",
       "      <th>timestamp</th>\n",
       "      <th>user</th>\n",
       "    </tr>\n",
       "  </thead>\n",
       "  <tbody>\n",
       "    <tr>\n",
       "      <th>0</th>\n",
       "      <td>25.0</td>\n",
       "      <td>2017-11-12 11:13:44</td>\n",
       "      <td>0.0</td>\n",
       "    </tr>\n",
       "    <tr>\n",
       "      <th>1</th>\n",
       "      <td>50.0</td>\n",
       "      <td>2015-08-25 19:01:45</td>\n",
       "      <td>0.0</td>\n",
       "    </tr>\n",
       "    <tr>\n",
       "      <th>2</th>\n",
       "      <td>25.0</td>\n",
       "      <td>2015-03-26 12:03:47</td>\n",
       "      <td>0.0</td>\n",
       "    </tr>\n",
       "    <tr>\n",
       "      <th>3</th>\n",
       "      <td>50.0</td>\n",
       "      <td>2016-07-06 12:24:55</td>\n",
       "      <td>0.0</td>\n",
       "    </tr>\n",
       "    <tr>\n",
       "      <th>4</th>\n",
       "      <td>50.0</td>\n",
       "      <td>2016-05-11 18:13:04</td>\n",
       "      <td>1.0</td>\n",
       "    </tr>\n",
       "  </tbody>\n",
       "</table>\n",
       "</div>"
      ],
      "text/plain": [
       "   amount            timestamp  user\n",
       "0    25.0  2017-11-12 11:13:44   0.0\n",
       "1    50.0  2015-08-25 19:01:45   0.0\n",
       "2    25.0  2015-03-26 12:03:47   0.0\n",
       "3    50.0  2016-07-06 12:24:55   0.0\n",
       "4    50.0  2016-05-11 18:13:04   1.0"
      ]
     },
     "metadata": {},
     "output_type": "display_data"
    }
   ],
   "source": [
    "url_repo = \"https://raw.githubusercontent.com/\" \\\n",
    "           \"PracticalTimeSeriesAnalysis/BookRepo/master/\"\n",
    "\n",
    "yearJoined = pd.read_csv(url_repo + \"Ch02/data/year_joined.csv\")\n",
    "emails = pd.read_csv(url_repo + \"Ch02/data/emails.csv\")\n",
    "donation = pd.read_csv(url_repo + \"Ch02/data/donations.csv\")\n",
    "\n",
    "display(yearJoined.head())\n",
    "display(emails.head())\n",
    "display(donation.head())"
   ]
  },
  {
   "cell_type": "markdown",
   "id": "2c1c67f0-9ea6-4537-81f4-56a7dfcf9306",
   "metadata": {},
   "source": [
    "各データの日付をdatetime型に変換する。\n",
    "\n",
    "後の処理でdatetime型を仮定した処理がされている箇所がある。（donationについてはは書かれているけど、全て必要）"
   ]
  },
  {
   "cell_type": "code",
   "execution_count": 3,
   "id": "2c8c4a56-a4d4-447e-be2c-9204bcd08712",
   "metadata": {},
   "outputs": [],
   "source": [
    "emails.week = pd.to_datetime(emails.week)\n",
    "donation.timestamp = pd.to_datetime(donation.timestamp)"
   ]
  },
  {
   "cell_type": "markdown",
   "id": "9c35e2a8-8b1c-4b07-9bb2-82f5b9abdc34",
   "metadata": {},
   "source": [
    "データに対する仮説を確認する。思い込みは危険。\n",
    "\n",
    "まずは会員情報が最新のものだけ、つまり、ユーザに対して状態（Status）が一つだけなのかを確認。"
   ]
  },
  {
   "cell_type": "code",
   "execution_count": 4,
   "id": "c8328864-0975-4e4b-aded-38a39a32b401",
   "metadata": {},
   "outputs": [
    {
     "name": "stdout",
     "output_type": "stream",
     "text": [
      "(1000, 3)\n",
      "           yearJoined\n",
      "userStats            \n",
      "1                1000\n"
     ]
    }
   ],
   "source": [
    "print(yearJoined.shape)\n",
    "print(yearJoined.groupby(\"user\").count().groupby(\"userStats\").count())"
   ]
  },
  {
   "cell_type": "markdown",
   "id": "f7466a75-7af4-4abd-b906-bc880dde5751",
   "metadata": {},
   "source": [
    "emailデータは開封した数があったときに記録されるのか？つまり、0件開封したレコードはあるのか？"
   ]
  },
  {
   "cell_type": "code",
   "execution_count": 5,
   "id": "2d8b583e-e33e-4216-8725-0b975d865aca",
   "metadata": {},
   "outputs": [
    {
     "data": {
      "text/html": [
       "<div>\n",
       "<style scoped>\n",
       "    .dataframe tbody tr th:only-of-type {\n",
       "        vertical-align: middle;\n",
       "    }\n",
       "\n",
       "    .dataframe tbody tr th {\n",
       "        vertical-align: top;\n",
       "    }\n",
       "\n",
       "    .dataframe thead th {\n",
       "        text-align: right;\n",
       "    }\n",
       "</style>\n",
       "<table border=\"1\" class=\"dataframe\">\n",
       "  <thead>\n",
       "    <tr style=\"text-align: right;\">\n",
       "      <th></th>\n",
       "      <th>emailsOpened</th>\n",
       "      <th>user</th>\n",
       "      <th>week</th>\n",
       "    </tr>\n",
       "  </thead>\n",
       "  <tbody>\n",
       "  </tbody>\n",
       "</table>\n",
       "</div>"
      ],
      "text/plain": [
       "Empty DataFrame\n",
       "Columns: [emailsOpened, user, week]\n",
       "Index: []"
      ]
     },
     "execution_count": 5,
     "metadata": {},
     "output_type": "execute_result"
    }
   ],
   "source": [
    "emails[emails.emailsOpened < 1]"
   ]
  },
  {
   "cell_type": "code",
   "execution_count": 6,
   "id": "d965b723-2ece-4abc-8e67-29a6af3c62e6",
   "metadata": {},
   "outputs": [
    {
     "data": {
      "text/html": [
       "<div>\n",
       "<style scoped>\n",
       "    .dataframe tbody tr th:only-of-type {\n",
       "        vertical-align: middle;\n",
       "    }\n",
       "\n",
       "    .dataframe tbody tr th {\n",
       "        vertical-align: top;\n",
       "    }\n",
       "\n",
       "    .dataframe thead th {\n",
       "        text-align: right;\n",
       "    }\n",
       "</style>\n",
       "<table border=\"1\" class=\"dataframe\">\n",
       "  <thead>\n",
       "    <tr style=\"text-align: right;\">\n",
       "      <th></th>\n",
       "      <th>emailsOpened</th>\n",
       "      <th>user</th>\n",
       "      <th>week</th>\n",
       "    </tr>\n",
       "  </thead>\n",
       "  <tbody>\n",
       "    <tr>\n",
       "      <th>25464</th>\n",
       "      <td>1.0</td>\n",
       "      <td>998.0</td>\n",
       "      <td>2017-12-04</td>\n",
       "    </tr>\n",
       "    <tr>\n",
       "      <th>25465</th>\n",
       "      <td>3.0</td>\n",
       "      <td>998.0</td>\n",
       "      <td>2017-12-11</td>\n",
       "    </tr>\n",
       "    <tr>\n",
       "      <th>25466</th>\n",
       "      <td>3.0</td>\n",
       "      <td>998.0</td>\n",
       "      <td>2017-12-18</td>\n",
       "    </tr>\n",
       "    <tr>\n",
       "      <th>25467</th>\n",
       "      <td>3.0</td>\n",
       "      <td>998.0</td>\n",
       "      <td>2018-01-01</td>\n",
       "    </tr>\n",
       "    <tr>\n",
       "      <th>25468</th>\n",
       "      <td>3.0</td>\n",
       "      <td>998.0</td>\n",
       "      <td>2018-01-08</td>\n",
       "    </tr>\n",
       "  </tbody>\n",
       "</table>\n",
       "</div>"
      ],
      "text/plain": [
       "       emailsOpened   user       week\n",
       "25464           1.0  998.0 2017-12-04\n",
       "25465           3.0  998.0 2017-12-11\n",
       "25466           3.0  998.0 2017-12-18\n",
       "25467           3.0  998.0 2018-01-01\n",
       "25468           3.0  998.0 2018-01-08"
      ]
     },
     "execution_count": 6,
     "metadata": {},
     "output_type": "execute_result"
    }
   ],
   "source": [
    "emails[emails.user == 998].head()"
   ]
  },
  {
   "cell_type": "markdown",
   "id": "2b0a3010-bf62-41b0-9679-a1c8454e6883",
   "metadata": {},
   "source": [
    "0件開封したレコードは無く、週が飛んでいることがわかるので、これらのことから、emailの開封が0の場合は記録されていないということがわかる。\n",
    "\n",
    "期待される週の数と実際のレコード数の差からもemailの開封が0の場合は記録されていないことがわかる。"
   ]
  },
  {
   "cell_type": "code",
   "execution_count": 7,
   "id": "875f4c89-c2f7-4058-a1a0-5b729a3a0f01",
   "metadata": {},
   "outputs": [
    {
     "name": "stdout",
     "output_type": "stream",
     "text": [
      "25.0\n",
      "(24, 3)\n"
     ]
    }
   ],
   "source": [
    "print((max(emails[emails.user==998].week) - min(emails[emails.user==998].week)).days / 7)\n",
    "print(emails[emails.user==998].shape)"
   ]
  },
  {
   "cell_type": "markdown",
   "id": "6d43d666-593d-47a6-a713-d48a4a6fed62",
   "metadata": {},
   "source": [
    "空白を埋めて綺麗なデータを作る。0件の開封というのも重要な情報。\n",
    "\n",
    "「何もない」というのはすごく重要なので、見落とさないように注意が必要。"
   ]
  },
  {
   "cell_type": "code",
   "execution_count": 8,
   "id": "eb3d29e2-2410-4d12-82f1-afe451bffb6d",
   "metadata": {},
   "outputs": [],
   "source": [
    "complete_idx = pd.MultiIndex.from_product((set(emails.week), set(emails.user)))"
   ]
  },
  {
   "cell_type": "code",
   "execution_count": 9,
   "id": "edaba1de-4f4a-4cde-af71-1af57b97f9da",
   "metadata": {},
   "outputs": [
    {
     "data": {
      "text/html": [
       "<div>\n",
       "<style scoped>\n",
       "    .dataframe tbody tr th:only-of-type {\n",
       "        vertical-align: middle;\n",
       "    }\n",
       "\n",
       "    .dataframe tbody tr th {\n",
       "        vertical-align: top;\n",
       "    }\n",
       "\n",
       "    .dataframe thead th {\n",
       "        text-align: right;\n",
       "    }\n",
       "</style>\n",
       "<table border=\"1\" class=\"dataframe\">\n",
       "  <thead>\n",
       "    <tr style=\"text-align: right;\">\n",
       "      <th></th>\n",
       "      <th>week</th>\n",
       "      <th>user</th>\n",
       "      <th>emailsOpened</th>\n",
       "    </tr>\n",
       "  </thead>\n",
       "  <tbody>\n",
       "    <tr>\n",
       "      <th>0</th>\n",
       "      <td>2017-10-23</td>\n",
       "      <td>1.0</td>\n",
       "      <td>3.0</td>\n",
       "    </tr>\n",
       "    <tr>\n",
       "      <th>1</th>\n",
       "      <td>2017-10-23</td>\n",
       "      <td>3.0</td>\n",
       "      <td>0.0</td>\n",
       "    </tr>\n",
       "    <tr>\n",
       "      <th>2</th>\n",
       "      <td>2017-10-23</td>\n",
       "      <td>5.0</td>\n",
       "      <td>1.0</td>\n",
       "    </tr>\n",
       "    <tr>\n",
       "      <th>3</th>\n",
       "      <td>2017-10-23</td>\n",
       "      <td>6.0</td>\n",
       "      <td>2.0</td>\n",
       "    </tr>\n",
       "    <tr>\n",
       "      <th>4</th>\n",
       "      <td>2017-10-23</td>\n",
       "      <td>9.0</td>\n",
       "      <td>3.0</td>\n",
       "    </tr>\n",
       "  </tbody>\n",
       "</table>\n",
       "</div>"
      ],
      "text/plain": [
       "        week  user  emailsOpened\n",
       "0 2017-10-23   1.0           3.0\n",
       "1 2017-10-23   3.0           0.0\n",
       "2 2017-10-23   5.0           1.0\n",
       "3 2017-10-23   6.0           2.0\n",
       "4 2017-10-23   9.0           3.0"
      ]
     },
     "execution_count": 9,
     "metadata": {},
     "output_type": "execute_result"
    }
   ],
   "source": [
    "all_email = emails.set_index([\"week\", \"user\"]).reindex(complete_idx, fill_value=0).reset_index()\n",
    "all_email.columns = [\"week\", \"user\", \"emailsOpened\"]\n",
    "all_email.head()"
   ]
  },
  {
   "cell_type": "markdown",
   "id": "cf2af7ac-3648-4976-95b6-66e2aefa2ae6",
   "metadata": {},
   "source": [
    "これで作ったデータは、全てのユーザで同じ期間分。\n",
    "\n",
    "しかし、ユーザ毎の入会時期が異なる。ここでは、メールの開封が初週からずっと無い期間、及び、最後まで無い期間を未会員期間と仮定する。（本来は入会/退会時期のデータが欲しい）"
   ]
  },
  {
   "cell_type": "code",
   "execution_count": 10,
   "id": "db717f9e-70df-48cf-8042-0f6785b4af2c",
   "metadata": {},
   "outputs": [
    {
     "data": {
      "text/plain": [
       "week            0\n",
       "emailsOpened    0\n",
       "dtype: int64"
      ]
     },
     "execution_count": 10,
     "metadata": {},
     "output_type": "execute_result"
    }
   ],
   "source": [
    "(all_email.groupby(\"user\").count() != 173).sum()"
   ]
  },
  {
   "cell_type": "code",
   "execution_count": 11,
   "id": "9c505126-40ac-48c8-937b-def2cd084815",
   "metadata": {},
   "outputs": [
    {
     "data": {
      "text/html": [
       "<div>\n",
       "<style scoped>\n",
       "    .dataframe tbody tr th:only-of-type {\n",
       "        vertical-align: middle;\n",
       "    }\n",
       "\n",
       "    .dataframe tbody tr th {\n",
       "        vertical-align: top;\n",
       "    }\n",
       "\n",
       "    .dataframe thead th {\n",
       "        text-align: right;\n",
       "    }\n",
       "</style>\n",
       "<table border=\"1\" class=\"dataframe\">\n",
       "  <thead>\n",
       "    <tr style=\"text-align: right;\">\n",
       "      <th></th>\n",
       "      <th>week</th>\n",
       "      <th>user</th>\n",
       "      <th>emailsOpened</th>\n",
       "    </tr>\n",
       "  </thead>\n",
       "  <tbody>\n",
       "    <tr>\n",
       "      <th>57672</th>\n",
       "      <td>2015-02-09</td>\n",
       "      <td>998.0</td>\n",
       "      <td>0.0</td>\n",
       "    </tr>\n",
       "    <tr>\n",
       "      <th>23176</th>\n",
       "      <td>2015-02-16</td>\n",
       "      <td>998.0</td>\n",
       "      <td>0.0</td>\n",
       "    </tr>\n",
       "    <tr>\n",
       "      <th>36112</th>\n",
       "      <td>2015-02-23</td>\n",
       "      <td>998.0</td>\n",
       "      <td>0.0</td>\n",
       "    </tr>\n",
       "    <tr>\n",
       "      <th>74381</th>\n",
       "      <td>2015-03-02</td>\n",
       "      <td>998.0</td>\n",
       "      <td>0.0</td>\n",
       "    </tr>\n",
       "    <tr>\n",
       "      <th>60367</th>\n",
       "      <td>2015-03-09</td>\n",
       "      <td>998.0</td>\n",
       "      <td>0.0</td>\n",
       "    </tr>\n",
       "  </tbody>\n",
       "</table>\n",
       "</div>"
      ],
      "text/plain": [
       "            week   user  emailsOpened\n",
       "57672 2015-02-09  998.0           0.0\n",
       "23176 2015-02-16  998.0           0.0\n",
       "36112 2015-02-23  998.0           0.0\n",
       "74381 2015-03-02  998.0           0.0\n",
       "60367 2015-03-09  998.0           0.0"
      ]
     },
     "execution_count": 11,
     "metadata": {},
     "output_type": "execute_result"
    }
   ],
   "source": [
    "all_email[all_email.user == 998].sort_values(\"week\").head()"
   ]
  },
  {
   "cell_type": "markdown",
   "id": "d66b9f09-7675-463e-a372-f179f85273d5",
   "metadata": {},
   "source": [
    "ユーザ毎に、（おそらく）会員前のメールを受け取れない状態のレコードを削除する。"
   ]
  },
  {
   "cell_type": "code",
   "execution_count": 12,
   "id": "e988be18-bd95-4d13-af03-e26645236991",
   "metadata": {},
   "outputs": [
    {
     "data": {
      "text/html": [
       "<div>\n",
       "<style scoped>\n",
       "    .dataframe tbody tr th:only-of-type {\n",
       "        vertical-align: middle;\n",
       "    }\n",
       "\n",
       "    .dataframe tbody tr th {\n",
       "        vertical-align: top;\n",
       "    }\n",
       "\n",
       "    .dataframe thead th {\n",
       "        text-align: right;\n",
       "    }\n",
       "</style>\n",
       "<table border=\"1\" class=\"dataframe\">\n",
       "  <thead>\n",
       "    <tr style=\"text-align: right;\">\n",
       "      <th></th>\n",
       "      <th>index</th>\n",
       "      <th>user</th>\n",
       "      <th>min</th>\n",
       "      <th>max</th>\n",
       "    </tr>\n",
       "  </thead>\n",
       "  <tbody>\n",
       "    <tr>\n",
       "      <th>0</th>\n",
       "      <td>0</td>\n",
       "      <td>1.0</td>\n",
       "      <td>2015-06-29</td>\n",
       "      <td>2018-05-28</td>\n",
       "    </tr>\n",
       "    <tr>\n",
       "      <th>1</th>\n",
       "      <td>1</td>\n",
       "      <td>3.0</td>\n",
       "      <td>2018-03-05</td>\n",
       "      <td>2018-04-23</td>\n",
       "    </tr>\n",
       "    <tr>\n",
       "      <th>2</th>\n",
       "      <td>2</td>\n",
       "      <td>5.0</td>\n",
       "      <td>2017-06-05</td>\n",
       "      <td>2018-05-28</td>\n",
       "    </tr>\n",
       "    <tr>\n",
       "      <th>3</th>\n",
       "      <td>3</td>\n",
       "      <td>6.0</td>\n",
       "      <td>2016-12-05</td>\n",
       "      <td>2018-05-28</td>\n",
       "    </tr>\n",
       "    <tr>\n",
       "      <th>4</th>\n",
       "      <td>4</td>\n",
       "      <td>9.0</td>\n",
       "      <td>2016-07-18</td>\n",
       "      <td>2018-05-28</td>\n",
       "    </tr>\n",
       "    <tr>\n",
       "      <th>...</th>\n",
       "      <td>...</td>\n",
       "      <td>...</td>\n",
       "      <td>...</td>\n",
       "      <td>...</td>\n",
       "    </tr>\n",
       "    <tr>\n",
       "      <th>534</th>\n",
       "      <td>534</td>\n",
       "      <td>991.0</td>\n",
       "      <td>2016-10-24</td>\n",
       "      <td>2016-10-24</td>\n",
       "    </tr>\n",
       "    <tr>\n",
       "      <th>535</th>\n",
       "      <td>535</td>\n",
       "      <td>992.0</td>\n",
       "      <td>2015-02-09</td>\n",
       "      <td>2015-07-06</td>\n",
       "    </tr>\n",
       "    <tr>\n",
       "      <th>536</th>\n",
       "      <td>536</td>\n",
       "      <td>993.0</td>\n",
       "      <td>2017-09-11</td>\n",
       "      <td>2018-05-28</td>\n",
       "    </tr>\n",
       "    <tr>\n",
       "      <th>537</th>\n",
       "      <td>537</td>\n",
       "      <td>995.0</td>\n",
       "      <td>2016-09-05</td>\n",
       "      <td>2018-05-28</td>\n",
       "    </tr>\n",
       "    <tr>\n",
       "      <th>538</th>\n",
       "      <td>538</td>\n",
       "      <td>998.0</td>\n",
       "      <td>2017-12-04</td>\n",
       "      <td>2018-05-28</td>\n",
       "    </tr>\n",
       "  </tbody>\n",
       "</table>\n",
       "<p>539 rows × 4 columns</p>\n",
       "</div>"
      ],
      "text/plain": [
       "     index   user        min        max\n",
       "0        0    1.0 2015-06-29 2018-05-28\n",
       "1        1    3.0 2018-03-05 2018-04-23\n",
       "2        2    5.0 2017-06-05 2018-05-28\n",
       "3        3    6.0 2016-12-05 2018-05-28\n",
       "4        4    9.0 2016-07-18 2018-05-28\n",
       "..     ...    ...        ...        ...\n",
       "534    534  991.0 2016-10-24 2016-10-24\n",
       "535    535  992.0 2015-02-09 2015-07-06\n",
       "536    536  993.0 2017-09-11 2018-05-28\n",
       "537    537  995.0 2016-09-05 2018-05-28\n",
       "538    538  998.0 2017-12-04 2018-05-28\n",
       "\n",
       "[539 rows x 4 columns]"
      ]
     },
     "execution_count": 12,
     "metadata": {},
     "output_type": "execute_result"
    }
   ],
   "source": [
    "cutoff_dates = emails.groupby(\"user\").week.agg([\"min\", \"max\"]).reset_index()\n",
    "cutoff_dates = cutoff_dates.reset_index()\n",
    "cutoff_dates "
   ]
  },
  {
   "cell_type": "code",
   "execution_count": 13,
   "id": "3f149112-8508-431e-bcb1-d5dbaf369869",
   "metadata": {},
   "outputs": [
    {
     "name": "stderr",
     "output_type": "stream",
     "text": [
      "/tmp/ipykernel_728/702818202.py:5: UserWarning: Boolean Series key will be reindexed to match DataFrame index.\n",
      "  all_email.drop(all_email[all_email.user == user][all_email.week < start_date].index, inplace=True)\n",
      "/tmp/ipykernel_728/702818202.py:6: UserWarning: Boolean Series key will be reindexed to match DataFrame index.\n",
      "  all_email.drop(all_email[all_email.user == user][all_email.week > end_date].index, inplace=True)\n"
     ]
    }
   ],
   "source": [
    "for _, row in cutoff_dates.iterrows():\n",
    "    user = row[\"user\"]\n",
    "    start_date = row[\"min\"]\n",
    "    end_date = row[\"max\"]\n",
    "    all_email.drop(all_email[all_email.user == user][all_email.week < start_date].index, inplace=True)\n",
    "    all_email.drop(all_email[all_email.user == user][all_email.week > end_date].index, inplace=True)"
   ]
  },
  {
   "cell_type": "code",
   "execution_count": 14,
   "id": "04662e9c-4cd9-4275-a544-802768b4167d",
   "metadata": {},
   "outputs": [
    {
     "data": {
      "text/html": [
       "<div>\n",
       "<style scoped>\n",
       "    .dataframe tbody tr th:only-of-type {\n",
       "        vertical-align: middle;\n",
       "    }\n",
       "\n",
       "    .dataframe tbody tr th {\n",
       "        vertical-align: top;\n",
       "    }\n",
       "\n",
       "    .dataframe thead th {\n",
       "        text-align: right;\n",
       "    }\n",
       "</style>\n",
       "<table border=\"1\" class=\"dataframe\">\n",
       "  <thead>\n",
       "    <tr style=\"text-align: right;\">\n",
       "      <th></th>\n",
       "      <th>week</th>\n",
       "      <th>user</th>\n",
       "      <th>emailsOpened</th>\n",
       "    </tr>\n",
       "  </thead>\n",
       "  <tbody>\n",
       "    <tr>\n",
       "      <th>27488</th>\n",
       "      <td>2017-12-04</td>\n",
       "      <td>998.0</td>\n",
       "      <td>1.0</td>\n",
       "    </tr>\n",
       "    <tr>\n",
       "      <th>8623</th>\n",
       "      <td>2017-12-11</td>\n",
       "      <td>998.0</td>\n",
       "      <td>3.0</td>\n",
       "    </tr>\n",
       "    <tr>\n",
       "      <th>32878</th>\n",
       "      <td>2017-12-18</td>\n",
       "      <td>998.0</td>\n",
       "      <td>3.0</td>\n",
       "    </tr>\n",
       "    <tr>\n",
       "      <th>15091</th>\n",
       "      <td>2017-12-25</td>\n",
       "      <td>998.0</td>\n",
       "      <td>0.0</td>\n",
       "    </tr>\n",
       "    <tr>\n",
       "      <th>43119</th>\n",
       "      <td>2018-01-01</td>\n",
       "      <td>998.0</td>\n",
       "      <td>3.0</td>\n",
       "    </tr>\n",
       "  </tbody>\n",
       "</table>\n",
       "</div>"
      ],
      "text/plain": [
       "            week   user  emailsOpened\n",
       "27488 2017-12-04  998.0           1.0\n",
       "8623  2017-12-11  998.0           3.0\n",
       "32878 2017-12-18  998.0           3.0\n",
       "15091 2017-12-25  998.0           0.0\n",
       "43119 2018-01-01  998.0           3.0"
      ]
     },
     "execution_count": 14,
     "metadata": {},
     "output_type": "execute_result"
    }
   ],
   "source": [
    "all_email[all_email.user == 998].sort_values(\"week\").head()"
   ]
  },
  {
   "cell_type": "markdown",
   "id": "4a9c5630-ea9e-4f4c-b7a2-a8e2d29b3bcc",
   "metadata": {},
   "source": [
    "## 時系列の構築\n",
    "\n",
    "寄付金額と電子メールの開封数との関係を見たいので、寄付金額を上記のデータと結合する。"
   ]
  },
  {
   "cell_type": "code",
   "execution_count": 15,
   "id": "556ea399-1ae6-4481-9ca8-adbe79b97965",
   "metadata": {},
   "outputs": [],
   "source": [
    "donation.set_index(\"timestamp\", inplace=True)"
   ]
  },
  {
   "cell_type": "code",
   "execution_count": 16,
   "id": "e917dbb4-3a2e-43d2-a84c-e0d5471de1d5",
   "metadata": {},
   "outputs": [
    {
     "data": {
      "text/html": [
       "<div>\n",
       "<style scoped>\n",
       "    .dataframe tbody tr th:only-of-type {\n",
       "        vertical-align: middle;\n",
       "    }\n",
       "\n",
       "    .dataframe tbody tr th {\n",
       "        vertical-align: top;\n",
       "    }\n",
       "\n",
       "    .dataframe thead th {\n",
       "        text-align: right;\n",
       "    }\n",
       "</style>\n",
       "<table border=\"1\" class=\"dataframe\">\n",
       "  <thead>\n",
       "    <tr style=\"text-align: right;\">\n",
       "      <th></th>\n",
       "      <th>amount</th>\n",
       "      <th>user</th>\n",
       "    </tr>\n",
       "    <tr>\n",
       "      <th>timestamp</th>\n",
       "      <th></th>\n",
       "      <th></th>\n",
       "    </tr>\n",
       "  </thead>\n",
       "  <tbody>\n",
       "    <tr>\n",
       "      <th>2017-11-12 11:13:44</th>\n",
       "      <td>25.0</td>\n",
       "      <td>0.0</td>\n",
       "    </tr>\n",
       "    <tr>\n",
       "      <th>2015-08-25 19:01:45</th>\n",
       "      <td>50.0</td>\n",
       "      <td>0.0</td>\n",
       "    </tr>\n",
       "    <tr>\n",
       "      <th>2015-03-26 12:03:47</th>\n",
       "      <td>25.0</td>\n",
       "      <td>0.0</td>\n",
       "    </tr>\n",
       "    <tr>\n",
       "      <th>2016-07-06 12:24:55</th>\n",
       "      <td>50.0</td>\n",
       "      <td>0.0</td>\n",
       "    </tr>\n",
       "    <tr>\n",
       "      <th>2016-05-11 18:13:04</th>\n",
       "      <td>50.0</td>\n",
       "      <td>1.0</td>\n",
       "    </tr>\n",
       "  </tbody>\n",
       "</table>\n",
       "</div>"
      ],
      "text/plain": [
       "                     amount  user\n",
       "timestamp                        \n",
       "2017-11-12 11:13:44    25.0   0.0\n",
       "2015-08-25 19:01:45    50.0   0.0\n",
       "2015-03-26 12:03:47    25.0   0.0\n",
       "2016-07-06 12:24:55    50.0   0.0\n",
       "2016-05-11 18:13:04    50.0   1.0"
      ]
     },
     "execution_count": 16,
     "metadata": {},
     "output_type": "execute_result"
    }
   ],
   "source": [
    "donation.head()"
   ]
  },
  {
   "cell_type": "markdown",
   "id": "c1a40cf0-30ce-4ed9-b6a0-a1012af9eb67",
   "metadata": {},
   "source": [
    "週毎の合計金額に変換する。\n",
    "\n",
    "メール開封数と結合させるため（ダウンサンプリング）。また、瞬間的なタイミングはここでは重要ではないと考えている。"
   ]
  },
  {
   "cell_type": "code",
   "execution_count": 17,
   "id": "13cb24b2-67c8-4139-9ead-fd41fdbaec3b",
   "metadata": {},
   "outputs": [
    {
     "data": {
      "text/html": [
       "<div>\n",
       "<style scoped>\n",
       "    .dataframe tbody tr th:only-of-type {\n",
       "        vertical-align: middle;\n",
       "    }\n",
       "\n",
       "    .dataframe tbody tr th {\n",
       "        vertical-align: top;\n",
       "    }\n",
       "\n",
       "    .dataframe thead th {\n",
       "        text-align: right;\n",
       "    }\n",
       "</style>\n",
       "<table border=\"1\" class=\"dataframe\">\n",
       "  <thead>\n",
       "    <tr style=\"text-align: right;\">\n",
       "      <th></th>\n",
       "      <th>user</th>\n",
       "      <th>timestamp</th>\n",
       "      <th>amount</th>\n",
       "    </tr>\n",
       "  </thead>\n",
       "  <tbody>\n",
       "    <tr>\n",
       "      <th>0</th>\n",
       "      <td>0.0</td>\n",
       "      <td>2015-03-30</td>\n",
       "      <td>25.0</td>\n",
       "    </tr>\n",
       "    <tr>\n",
       "      <th>1</th>\n",
       "      <td>0.0</td>\n",
       "      <td>2015-04-06</td>\n",
       "      <td>0.0</td>\n",
       "    </tr>\n",
       "    <tr>\n",
       "      <th>2</th>\n",
       "      <td>0.0</td>\n",
       "      <td>2015-04-13</td>\n",
       "      <td>0.0</td>\n",
       "    </tr>\n",
       "    <tr>\n",
       "      <th>3</th>\n",
       "      <td>0.0</td>\n",
       "      <td>2015-04-20</td>\n",
       "      <td>0.0</td>\n",
       "    </tr>\n",
       "    <tr>\n",
       "      <th>4</th>\n",
       "      <td>0.0</td>\n",
       "      <td>2015-04-27</td>\n",
       "      <td>0.0</td>\n",
       "    </tr>\n",
       "  </tbody>\n",
       "</table>\n",
       "</div>"
      ],
      "text/plain": [
       "   user  timestamp  amount\n",
       "0   0.0 2015-03-30    25.0\n",
       "1   0.0 2015-04-06     0.0\n",
       "2   0.0 2015-04-13     0.0\n",
       "3   0.0 2015-04-20     0.0\n",
       "4   0.0 2015-04-27     0.0"
      ]
     },
     "execution_count": 17,
     "metadata": {},
     "output_type": "execute_result"
    }
   ],
   "source": [
    "agg_donations = pd.DataFrame(\n",
    "    donation.groupby(\"user\").apply(lambda df: df.amount.resample(\"W-MON\").sum().dropna())\n",
    ").reset_index() # DataFrameにしておく\n",
    "agg_donations.head()"
   ]
  },
  {
   "cell_type": "code",
   "execution_count": 18,
   "id": "90c7e5f8-2c66-4962-ae02-9eb14f13a498",
   "metadata": {},
   "outputs": [],
   "source": [
    "merged_df = pd.DataFrame() # 初期化が必要\n",
    "for user, user_email in all_email.groupby(\"user\"):\n",
    "    user_donations = agg_donations[agg_donations.user == user]\n",
    "    \n",
    "    user_donations.set_index(\"timestamp\", inplace=True)\n",
    "    user_email.set_index(\"week\", inplace=True)\n",
    "    \n",
    "    user_email = all_email[all_email.user == user]\n",
    "    user_email.sort_values(\"week\")\n",
    "    user_email.set_index(\"week\", inplace=True)\n",
    "    \n",
    "    df = pd.merge(user_email, user_donations, how=\"left\", left_index=True, right_index=True)\n",
    "    df.fillna(0)\n",
    "    \n",
    "    df[\"user\"] = df.user_x\n",
    "    merged_df = merged_df.append(df.reset_index()[[\"user\", \"week\", \"emailsOpened\", \"amount\"]])"
   ]
  },
  {
   "cell_type": "code",
   "execution_count": 19,
   "id": "5be8d34b-d443-4ea5-b090-c08f5530ecbc",
   "metadata": {},
   "outputs": [],
   "source": [
    "merged_df.sort_values([\"user\", \"week\"], inplace=True)"
   ]
  },
  {
   "cell_type": "code",
   "execution_count": 20,
   "id": "9b4dc203-650d-4ddc-a900-e4ab357dd45b",
   "metadata": {},
   "outputs": [
    {
     "data": {
      "text/html": [
       "<div>\n",
       "<style scoped>\n",
       "    .dataframe tbody tr th:only-of-type {\n",
       "        vertical-align: middle;\n",
       "    }\n",
       "\n",
       "    .dataframe tbody tr th {\n",
       "        vertical-align: top;\n",
       "    }\n",
       "\n",
       "    .dataframe thead th {\n",
       "        text-align: right;\n",
       "    }\n",
       "</style>\n",
       "<table border=\"1\" class=\"dataframe\">\n",
       "  <thead>\n",
       "    <tr style=\"text-align: right;\">\n",
       "      <th></th>\n",
       "      <th>user</th>\n",
       "      <th>week</th>\n",
       "      <th>emailsOpened</th>\n",
       "      <th>amount</th>\n",
       "    </tr>\n",
       "  </thead>\n",
       "  <tbody>\n",
       "    <tr>\n",
       "      <th>8</th>\n",
       "      <td>998.0</td>\n",
       "      <td>2017-12-04</td>\n",
       "      <td>1.0</td>\n",
       "      <td>NaN</td>\n",
       "    </tr>\n",
       "    <tr>\n",
       "      <th>1</th>\n",
       "      <td>998.0</td>\n",
       "      <td>2017-12-11</td>\n",
       "      <td>3.0</td>\n",
       "      <td>NaN</td>\n",
       "    </tr>\n",
       "    <tr>\n",
       "      <th>9</th>\n",
       "      <td>998.0</td>\n",
       "      <td>2017-12-18</td>\n",
       "      <td>3.0</td>\n",
       "      <td>NaN</td>\n",
       "    </tr>\n",
       "    <tr>\n",
       "      <th>3</th>\n",
       "      <td>998.0</td>\n",
       "      <td>2017-12-25</td>\n",
       "      <td>0.0</td>\n",
       "      <td>NaN</td>\n",
       "    </tr>\n",
       "    <tr>\n",
       "      <th>14</th>\n",
       "      <td>998.0</td>\n",
       "      <td>2018-01-01</td>\n",
       "      <td>3.0</td>\n",
       "      <td>NaN</td>\n",
       "    </tr>\n",
       "    <tr>\n",
       "      <th>19</th>\n",
       "      <td>998.0</td>\n",
       "      <td>2018-01-08</td>\n",
       "      <td>3.0</td>\n",
       "      <td>50.0</td>\n",
       "    </tr>\n",
       "    <tr>\n",
       "      <th>10</th>\n",
       "      <td>998.0</td>\n",
       "      <td>2018-01-15</td>\n",
       "      <td>2.0</td>\n",
       "      <td>NaN</td>\n",
       "    </tr>\n",
       "    <tr>\n",
       "      <th>16</th>\n",
       "      <td>998.0</td>\n",
       "      <td>2018-01-22</td>\n",
       "      <td>3.0</td>\n",
       "      <td>NaN</td>\n",
       "    </tr>\n",
       "  </tbody>\n",
       "</table>\n",
       "</div>"
      ],
      "text/plain": [
       "     user       week  emailsOpened  amount\n",
       "8   998.0 2017-12-04           1.0     NaN\n",
       "1   998.0 2017-12-11           3.0     NaN\n",
       "9   998.0 2017-12-18           3.0     NaN\n",
       "3   998.0 2017-12-25           0.0     NaN\n",
       "14  998.0 2018-01-01           3.0     NaN\n",
       "19  998.0 2018-01-08           3.0    50.0\n",
       "10  998.0 2018-01-15           2.0     NaN\n",
       "16  998.0 2018-01-22           3.0     NaN"
      ]
     },
     "execution_count": 20,
     "metadata": {},
     "output_type": "execute_result"
    }
   ],
   "source": [
    "merged_df[merged_df.user == 998].head(8)"
   ]
  },
  {
   "cell_type": "markdown",
   "id": "20165352-7ff0-4cfd-afd2-705db055b02c",
   "metadata": {},
   "source": [
    "寄付行動に関与するのは、前の週までの電子メールの開封数と考えられるので、ずらしてみる"
   ]
  },
  {
   "cell_type": "code",
   "execution_count": 21,
   "id": "9a4790a6-ac3d-4c40-9f0a-ff1eab1f185f",
   "metadata": {},
   "outputs": [
    {
     "name": "stderr",
     "output_type": "stream",
     "text": [
      "/tmp/ipykernel_728/584734378.py:2: SettingWithCopyWarning: \n",
      "A value is trying to be set on a copy of a slice from a DataFrame.\n",
      "Try using .loc[row_indexer,col_indexer] = value instead\n",
      "\n",
      "See the caveats in the documentation: https://pandas.pydata.org/pandas-docs/stable/user_guide/indexing.html#returning-a-view-versus-a-copy\n",
      "  df[\"target\"] = df.amount.shift(1)\n"
     ]
    },
    {
     "data": {
      "text/html": [
       "<div>\n",
       "<style scoped>\n",
       "    .dataframe tbody tr th:only-of-type {\n",
       "        vertical-align: middle;\n",
       "    }\n",
       "\n",
       "    .dataframe tbody tr th {\n",
       "        vertical-align: top;\n",
       "    }\n",
       "\n",
       "    .dataframe thead th {\n",
       "        text-align: right;\n",
       "    }\n",
       "</style>\n",
       "<table border=\"1\" class=\"dataframe\">\n",
       "  <thead>\n",
       "    <tr style=\"text-align: right;\">\n",
       "      <th></th>\n",
       "      <th>user</th>\n",
       "      <th>week</th>\n",
       "      <th>emailsOpened</th>\n",
       "      <th>amount</th>\n",
       "      <th>target</th>\n",
       "    </tr>\n",
       "  </thead>\n",
       "  <tbody>\n",
       "    <tr>\n",
       "      <th>8</th>\n",
       "      <td>998.0</td>\n",
       "      <td>2017-12-04</td>\n",
       "      <td>1.0</td>\n",
       "      <td>0.0</td>\n",
       "      <td>0.0</td>\n",
       "    </tr>\n",
       "    <tr>\n",
       "      <th>1</th>\n",
       "      <td>998.0</td>\n",
       "      <td>2017-12-11</td>\n",
       "      <td>3.0</td>\n",
       "      <td>0.0</td>\n",
       "      <td>0.0</td>\n",
       "    </tr>\n",
       "    <tr>\n",
       "      <th>9</th>\n",
       "      <td>998.0</td>\n",
       "      <td>2017-12-18</td>\n",
       "      <td>3.0</td>\n",
       "      <td>0.0</td>\n",
       "      <td>0.0</td>\n",
       "    </tr>\n",
       "    <tr>\n",
       "      <th>3</th>\n",
       "      <td>998.0</td>\n",
       "      <td>2017-12-25</td>\n",
       "      <td>0.0</td>\n",
       "      <td>0.0</td>\n",
       "      <td>0.0</td>\n",
       "    </tr>\n",
       "    <tr>\n",
       "      <th>14</th>\n",
       "      <td>998.0</td>\n",
       "      <td>2018-01-01</td>\n",
       "      <td>3.0</td>\n",
       "      <td>0.0</td>\n",
       "      <td>0.0</td>\n",
       "    </tr>\n",
       "    <tr>\n",
       "      <th>19</th>\n",
       "      <td>998.0</td>\n",
       "      <td>2018-01-08</td>\n",
       "      <td>3.0</td>\n",
       "      <td>50.0</td>\n",
       "      <td>0.0</td>\n",
       "    </tr>\n",
       "    <tr>\n",
       "      <th>10</th>\n",
       "      <td>998.0</td>\n",
       "      <td>2018-01-15</td>\n",
       "      <td>2.0</td>\n",
       "      <td>0.0</td>\n",
       "      <td>50.0</td>\n",
       "    </tr>\n",
       "    <tr>\n",
       "      <th>16</th>\n",
       "      <td>998.0</td>\n",
       "      <td>2018-01-22</td>\n",
       "      <td>3.0</td>\n",
       "      <td>0.0</td>\n",
       "      <td>0.0</td>\n",
       "    </tr>\n",
       "  </tbody>\n",
       "</table>\n",
       "</div>"
      ],
      "text/plain": [
       "     user       week  emailsOpened  amount  target\n",
       "8   998.0 2017-12-04           1.0     0.0     0.0\n",
       "1   998.0 2017-12-11           3.0     0.0     0.0\n",
       "9   998.0 2017-12-18           3.0     0.0     0.0\n",
       "3   998.0 2017-12-25           0.0     0.0     0.0\n",
       "14  998.0 2018-01-01           3.0     0.0     0.0\n",
       "19  998.0 2018-01-08           3.0    50.0     0.0\n",
       "10  998.0 2018-01-15           2.0     0.0    50.0\n",
       "16  998.0 2018-01-22           3.0     0.0     0.0"
      ]
     },
     "execution_count": 21,
     "metadata": {},
     "output_type": "execute_result"
    }
   ],
   "source": [
    "df = merged_df[merged_df.user == 998]\n",
    "df[\"target\"] = df.amount.shift(1)\n",
    "df = df.fillna(0)\n",
    "df.head(8)"
   ]
  },
  {
   "cell_type": "code",
   "execution_count": null,
   "id": "752331d4-cfb0-4e07-9f96-3a0326baf7be",
   "metadata": {},
   "outputs": [],
   "source": []
  }
 ],
 "metadata": {
  "kernelspec": {
   "display_name": "Python 3 (ipykernel)",
   "language": "python",
   "name": "python3"
  },
  "language_info": {
   "codemirror_mode": {
    "name": "ipython",
    "version": 3
   },
   "file_extension": ".py",
   "mimetype": "text/x-python",
   "name": "python",
   "nbconvert_exporter": "python",
   "pygments_lexer": "ipython3",
   "version": "3.9.7"
  }
 },
 "nbformat": 4,
 "nbformat_minor": 5
}
